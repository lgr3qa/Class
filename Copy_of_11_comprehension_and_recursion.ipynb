{
  "nbformat": 4,
  "nbformat_minor": 0,
  "metadata": {
    "colab": {
      "provenance": [],
      "include_colab_link": true
    },
    "kernelspec": {
      "name": "python3",
      "display_name": "Python 3"
    },
    "language_info": {
      "name": "python"
    }
  },
  "cells": [
    {
      "cell_type": "markdown",
      "metadata": {
        "id": "view-in-github",
        "colab_type": "text"
      },
      "source": [
        "<a href=\"https://colab.research.google.com/github/lgr3qa/Class/blob/main/Copy_of_11_comprehension_and_recursion.ipynb\" target=\"_parent\"><img src=\"https://colab.research.google.com/assets/colab-badge.svg\" alt=\"Open In Colab\"/></a>"
      ]
    },
    {
      "cell_type": "markdown",
      "source": [
        "## Assignment 11\n",
        "Due Monday 15 April at noon"
      ],
      "metadata": {
        "id": "y6mGkyWrqph3"
      }
    },
    {
      "cell_type": "markdown",
      "source": [
        "Lorenzo Rolumo, Kyoka Trepka"
      ],
      "metadata": {
        "id": "Wj0EsBtJEhXp"
      }
    },
    {
      "cell_type": "markdown",
      "source": [
        "### List comprehension\n",
        "\n",
        "Many of you resisted my recommendation to use list comprehensions in the previous assignment, and so my hand is forced.  You made me require it.\n",
        "\n",
        "\n",
        "Problem 1.  For each function you write below, you may assume the list being sent to the function will contain the appropriate data type.\n",
        "\n",
        "Use list comprehensions to create a function that will take a list `l` and return . . ."
      ],
      "metadata": {
        "id": "eBJulsWBngse"
      }
    },
    {
      "cell_type": "markdown",
      "source": [
        "(a) . . . a list containing the absolute value of each element of `l`"
      ],
      "metadata": {
        "id": "1h4hKDEqo5T_"
      }
    },
    {
      "cell_type": "code",
      "source": [
        "test_list_numbers = [1, -2, 3, -4, 0, 5, -6]"
      ],
      "metadata": {
        "id": "yzvrpd5FDfcD"
      },
      "execution_count": null,
      "outputs": []
    },
    {
      "cell_type": "code",
      "source": [
        "def absolute_values(lst):\n",
        "    return [abs(x) for x in lst]\n",
        "\n",
        "absolute_values(test_list_numbers)\n"
      ],
      "metadata": {
        "id": "LNltsHhtngLS",
        "colab": {
          "base_uri": "https://localhost:8080/"
        },
        "outputId": "cec5cc61-f87e-4701-d003-3126974477cd"
      },
      "execution_count": null,
      "outputs": [
        {
          "output_type": "execute_result",
          "data": {
            "text/plain": [
              "[1, 2, 3, 4, 0, 5, 6]"
            ]
          },
          "metadata": {},
          "execution_count": 9
        }
      ]
    },
    {
      "cell_type": "markdown",
      "source": [
        "(b) . . . a list containing `True` for each even number in `l` and `False` for each odd number in `l`"
      ],
      "metadata": {
        "id": "mqIbzaTvpLCV"
      }
    },
    {
      "cell_type": "code",
      "source": [
        "def even_odd_bool(lst):\n",
        "    return [x % 2 == 0 for x in lst]\n",
        "even_odd_bool(test_list_numbers)"
      ],
      "metadata": {
        "id": "0OTpQFX9pK0t",
        "colab": {
          "base_uri": "https://localhost:8080/"
        },
        "outputId": "4d88ee15-a3be-445d-d0da-a16ee1956e53"
      },
      "execution_count": null,
      "outputs": [
        {
          "output_type": "execute_result",
          "data": {
            "text/plain": [
              "[False, True, False, True, True, False, True]"
            ]
          },
          "metadata": {},
          "execution_count": 16
        }
      ]
    },
    {
      "cell_type": "markdown",
      "source": [
        "(c) . . . a list containing only the numbers in `l` that are divisible by 3"
      ],
      "metadata": {
        "id": "9yqVg2hApUY9"
      }
    },
    {
      "cell_type": "code",
      "source": [
        "def divisible_by_three(lst):\n",
        "    return [x for x in lst if x % 3 == 0]\n",
        "divisible_by_three(test_list_numbers)"
      ],
      "metadata": {
        "id": "2mP_1aYZpUF4",
        "colab": {
          "base_uri": "https://localhost:8080/"
        },
        "outputId": "d607395a-b103-4db5-de7d-ee8a904882ad"
      },
      "execution_count": null,
      "outputs": [
        {
          "output_type": "execute_result",
          "data": {
            "text/plain": [
              "[3, 0, -6]"
            ]
          },
          "metadata": {},
          "execution_count": 17
        }
      ]
    },
    {
      "cell_type": "markdown",
      "source": [
        "(d) . . . a list containing only the words in `l` whose first and last letters are the same"
      ],
      "metadata": {
        "id": "2yClgYZupef1"
      }
    },
    {
      "cell_type": "code",
      "source": [
        "test_list_words = ['level', 'test', 'deified', 'python', 'radar', 'example']\n"
      ],
      "metadata": {
        "id": "kWJSoCvdDlph"
      },
      "execution_count": null,
      "outputs": []
    },
    {
      "cell_type": "code",
      "source": [
        "def same_first_last_letter(lst):\n",
        "    return [word for word in lst if word[0].lower() == word[-1].lower()]\n",
        "\n",
        "same_first_last_letter(test_list_words)"
      ],
      "metadata": {
        "id": "-l7XnemMpeCi",
        "colab": {
          "base_uri": "https://localhost:8080/"
        },
        "outputId": "22946841-40e7-4c55-f735-7c30db02da14"
      },
      "execution_count": null,
      "outputs": [
        {
          "output_type": "execute_result",
          "data": {
            "text/plain": [
              "['level', 'test', 'deified', 'radar', 'example']"
            ]
          },
          "metadata": {},
          "execution_count": 18
        }
      ]
    },
    {
      "cell_type": "markdown",
      "source": [
        "(e) . . . a list containing the first letter of each word in `l` that ends with a vowel"
      ],
      "metadata": {
        "id": "1mqMysFKppZS"
      }
    },
    {
      "cell_type": "code",
      "source": [
        "def first_letter_word_ends_vowel(lst):\n",
        "    vowels = 'aeiouAEIOU'\n",
        "    return [word[0] for word in lst if word[-1] in vowels]\n",
        "\n",
        "first_letter_word_ends_vowel(test_list_words)\n"
      ],
      "metadata": {
        "id": "1Gi3andbppDc",
        "colab": {
          "base_uri": "https://localhost:8080/"
        },
        "outputId": "5271f0ff-f380-468b-ed97-f369c68400f5"
      },
      "execution_count": null,
      "outputs": [
        {
          "output_type": "execute_result",
          "data": {
            "text/plain": [
              "['e']"
            ]
          },
          "metadata": {},
          "execution_count": 19
        }
      ]
    },
    {
      "cell_type": "markdown",
      "source": [
        "### Multiplication as a recursive process\n",
        "Problem 2.  Write a recursive function that computes the product of two positive integers `a` and `b` by adding `a` to itself `b` times.\n",
        "\n",
        "Hints:  \n",
        "1. if `b=1` then the product is `a`.\n",
        "2. if `b>1` then the product is what you get by adding `a` to `a * (b-1)`.\n",
        "\n",
        "Note:  the purpose of this exercise is to practice writing recursive functions.  Of course you can trivially ask for `a*b` and get the correct answer but that is worth no points.  Your function should not use any multiplications.\n"
      ],
      "metadata": {
        "id": "iV4ysawxjsiE"
      }
    },
    {
      "cell_type": "code",
      "execution_count": null,
      "metadata": {
        "id": "wc9Y1d7ejrvH",
        "colab": {
          "base_uri": "https://localhost:8080/"
        },
        "outputId": "c751b276-7a3e-40fb-d10f-89619a375e7a"
      },
      "outputs": [
        {
          "output_type": "execute_result",
          "data": {
            "text/plain": [
              "{'(4, 7)': 28, '(3, 5)': 15, '(1, 10)': 10}"
            ]
          },
          "metadata": {},
          "execution_count": 20
        }
      ],
      "source": [
        "\n",
        "def recursive_multiply(a, b):\n",
        "    if b == 1:\n",
        "        return a\n",
        "    else:\n",
        "        return a + recursive_multiply(a, b-1)\n",
        "\n",
        "# Test the function with a couple of examples\n",
        "test_cases = [(4, 7), (3, 5), (1, 10)]\n",
        "test_results = {str(pair): recursive_multiply(pair[0], pair[1]) for pair in test_cases}\n",
        "test_results\n"
      ]
    },
    {
      "cell_type": "markdown",
      "source": [
        "### Division as a recursive process\n",
        "\n",
        "Problem 3:  Write a recursive function that takes two positive integers `a` and `b` and returns the quotient `q` and remainder `r` obtained when `a` is divided by `b`.\n",
        "\n",
        "Hints:  \n",
        "1. If `a<b` then what should `q` and `r` be?\n",
        "\n",
        "2. If `a>b` then think about how `q` and `r` are related to the values you would get from dividing `a-b` by `b`."
      ],
      "metadata": {
        "id": "A5xI1LxDkxn0"
      }
    },
    {
      "cell_type": "code",
      "source": [
        "def recursive_division(a, b, q=0):\n",
        "    if a < b:\n",
        "        return q, a\n",
        "    else:\n",
        "        return recursive_division(a-b, b, q+1)\n",
        "\n",
        "# Test the function with a couple of examples\n",
        "test_cases_division = [(10, 3), (25, 5), (7, 2)]\n",
        "test_results_division = {str(pair): recursive_division(pair[0], pair[1]) for pair in test_cases_division}\n",
        "test_results_division\n"
      ],
      "metadata": {
        "id": "_3aRmkgJkxUW",
        "colab": {
          "base_uri": "https://localhost:8080/"
        },
        "outputId": "46cb0335-d668-4a50-cd93-3b435fb670ec"
      },
      "execution_count": null,
      "outputs": [
        {
          "output_type": "execute_result",
          "data": {
            "text/plain": [
              "{'(10, 3)': (3, 1), '(25, 5)': (5, 0), '(7, 2)': (3, 1)}"
            ]
          },
          "metadata": {},
          "execution_count": 21
        }
      ]
    },
    {
      "cell_type": "markdown",
      "source": [
        "### The dot product of two vectors\n",
        "\n",
        "Problem 4.  Write a recursive function `dot()` that takes two lists of numbers, of equal length, and returns the sum of the products of the elements of the same index from each list. For example, if `V=[1,2,3]` and `W=[4,5,6]` then the function should return the value $(1 \\cdot 4) + (2\\cdot 5) + (3\\cdot 6)$, which equals 32.  In physics and linear algebra, this is called the \"dot product\" of the vectors `V` and `W`.\n",
        "\n",
        "Other examples:\n",
        "```\n",
        "dot([3],[4])\n",
        "12\n",
        "\n",
        "dot([1,1,0],[2,7,17])\n",
        "9\n",
        "```\n",
        "Hints:\n",
        "1. How is `dot(V,W)` related to `dot(V[1:],W[1:])`?\n",
        "2. What should happen if the lists are empty?"
      ],
      "metadata": {
        "id": "OkBK7gvglJ3u"
      }
    },
    {
      "cell_type": "code",
      "source": [
        "def dot(v, w):\n",
        "    if not v or not w:\n",
        "        return 0\n",
        "    else:\n",
        "        return v[0] * w[0] + dot(v[1:], w[1:])\n",
        "\n",
        "# Test the function with the provided examples\n",
        "test_vectors = [([3], [4]), ([1, 1, 0], [2, 7, 1])]\n",
        "test_results_vectors = {str(pair): dot(pair[0], pair[1]) for pair in test_vectors}\n",
        "test_results_vectors\n"
      ],
      "metadata": {
        "id": "LZXs6lkslJqm",
        "colab": {
          "base_uri": "https://localhost:8080/"
        },
        "outputId": "87ebb34b-5d4b-4589-ec03-5ac6a68e8b66"
      },
      "execution_count": null,
      "outputs": [
        {
          "output_type": "execute_result",
          "data": {
            "text/plain": [
              "{'([3], [4])': 12, '([1, 1, 0], [2, 7, 1])': 9}"
            ]
          },
          "metadata": {},
          "execution_count": 22
        }
      ]
    }
  ]
}