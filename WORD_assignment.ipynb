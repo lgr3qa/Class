{
  "nbformat": 4,
  "nbformat_minor": 0,
  "metadata": {
    "colab": {
      "provenance": [],
      "include_colab_link": true
    },
    "kernelspec": {
      "name": "python3",
      "display_name": "Python 3"
    },
    "language_info": {
      "name": "python"
    }
  },
  "cells": [
    {
      "cell_type": "markdown",
      "metadata": {
        "id": "view-in-github",
        "colab_type": "text"
      },
      "source": [
        "<a href=\"https://colab.research.google.com/github/lgr3qa/Class/blob/main/WORD_assignment.ipynb\" target=\"_parent\"><img src=\"https://colab.research.google.com/assets/colab-badge.svg\" alt=\"Open In Colab\"/></a>"
      ]
    },
    {
      "cell_type": "markdown",
      "source": [
        "# Words Assignment\n",
        "\n",
        "Lorenzo Romulo\n",
        "\n",
        "Kyoka Trepka"
      ],
      "metadata": {
        "id": "0avK1LrcGj5O"
      }
    },
    {
      "cell_type": "code",
      "execution_count": null,
      "metadata": {
        "colab": {
          "base_uri": "https://localhost:8080/"
        },
        "id": "_dIJTGh5Gc4g",
        "outputId": "9f08a5e9-befb-43cc-ee31-097b5c5bed95"
      },
      "outputs": [
        {
          "output_type": "stream",
          "name": "stdout",
          "text": [
            "Collecting english_words\n",
            "  Downloading english-words-2.0.1.tar.gz (8.2 MB)\n",
            "\u001b[2K     \u001b[90m━━━━━━━━━━━━━━━━━━━━━━━━━━━━━━━━━━━━━━━━\u001b[0m \u001b[32m8.2/8.2 MB\u001b[0m \u001b[31m18.7 MB/s\u001b[0m eta \u001b[36m0:00:00\u001b[0m\n",
            "\u001b[?25h  Installing build dependencies ... \u001b[?25l\u001b[?25hdone\n",
            "  Getting requirements to build wheel ... \u001b[?25l\u001b[?25hdone\n",
            "  Preparing metadata (pyproject.toml) ... \u001b[?25l\u001b[?25hdone\n",
            "Building wheels for collected packages: english_words\n",
            "  Building wheel for english_words (pyproject.toml) ... \u001b[?25l\u001b[?25hdone\n",
            "  Created wheel for english_words: filename=english_words-2.0.1-py3-none-any.whl size=8196238 sha256=567ddc05477d7fe199325419eff8d61a08e2f04762489d5733f8815f7908e1f8\n",
            "  Stored in directory: /root/.cache/pip/wheels/f0/e6/d9/16a123647999fe535f03a36e7af23eef203736d84c7ca25b0b\n",
            "Successfully built english_words\n",
            "Installing collected packages: english_words\n",
            "Successfully installed english_words-2.0.1\n"
          ]
        }
      ],
      "source": [
        "!pip install english_words\n",
        "from english_words import get_english_words_set\n",
        "words = get_english_words_set(['web2'],lower=True)"
      ]
    },
    {
      "cell_type": "markdown",
      "source": [
        "# 1."
      ],
      "metadata": {
        "id": "pu5wQH82vNQI"
      }
    },
    {
      "cell_type": "code",
      "source": [
        "#  Data type of words is sets\n",
        "print(type(words))\n",
        "\n",
        "# Convert set into list\n",
        "wordlist = list(words)\n",
        "print(type (wordlist))\n",
        "\n",
        "# # the wordlist is 234450 words long\n",
        "len(wordlist)\n"
      ],
      "metadata": {
        "colab": {
          "base_uri": "https://localhost:8080/"
        },
        "id": "cdAJbFdQHXbm",
        "outputId": "20711de2-4cf0-40b9-c02d-186803b31809"
      },
      "execution_count": null,
      "outputs": [
        {
          "output_type": "stream",
          "name": "stdout",
          "text": [
            "<class 'set'>\n",
            "<class 'list'>\n"
          ]
        },
        {
          "output_type": "execute_result",
          "data": {
            "text/plain": [
              "234450"
            ]
          },
          "metadata": {},
          "execution_count": 2
        }
      ]
    },
    {
      "cell_type": "markdown",
      "source": [
        "# 2."
      ],
      "metadata": {
        "id": "G1mu0VwfvI5H"
      }
    },
    {
      "cell_type": "code",
      "source": [
        "# first 10 words in wordlist\n",
        "first_ten = wordlist[:10]\n",
        "first_ten\n",
        "\n",
        "\n"
      ],
      "metadata": {
        "colab": {
          "base_uri": "https://localhost:8080/"
        },
        "id": "TqZxsH8QI8Ya",
        "outputId": "853f0826-ccbb-4fc8-be84-c7c9a54045b0"
      },
      "execution_count": null,
      "outputs": [
        {
          "output_type": "execute_result",
          "data": {
            "text/plain": [
              "['illustrative',\n",
              " 'shocker',\n",
              " 'crossopodia',\n",
              " 'turncoatism',\n",
              " 'palminervate',\n",
              " 'ureterogram',\n",
              " 'pellotine',\n",
              " 'phoenicize',\n",
              " 'figulated',\n",
              " 'telega']"
            ]
          },
          "metadata": {},
          "execution_count": 3
        }
      ]
    },
    {
      "cell_type": "markdown",
      "source": [
        "we noticed that the words given seem to be in a random order, or not alphabetically organized"
      ],
      "metadata": {
        "id": "asIbSJR9wEmD"
      }
    },
    {
      "cell_type": "markdown",
      "source": [
        "# 3."
      ],
      "metadata": {
        "id": "WHzoEyaKvGzl"
      }
    },
    {
      "cell_type": "code",
      "source": [
        "alpha_list = sorted(first_ten)\n",
        "first_ten_alpha = alpha_list[:10]\n",
        "first_ten_alpha"
      ],
      "metadata": {
        "colab": {
          "base_uri": "https://localhost:8080/"
        },
        "id": "SQrMhRmnQtkl",
        "outputId": "4514f6ce-200b-4510-f804-6db3910ac17f"
      },
      "execution_count": null,
      "outputs": [
        {
          "output_type": "execute_result",
          "data": {
            "text/plain": [
              "['crossopodia',\n",
              " 'figulated',\n",
              " 'illustrative',\n",
              " 'palminervate',\n",
              " 'pellotine',\n",
              " 'phoenicize',\n",
              " 'shocker',\n",
              " 'telega',\n",
              " 'turncoatism',\n",
              " 'ureterogram']"
            ]
          },
          "metadata": {},
          "execution_count": 4
        }
      ]
    },
    {
      "cell_type": "markdown",
      "source": [
        "# 4."
      ],
      "metadata": {
        "id": "utW3c73-vRQD"
      }
    },
    {
      "cell_type": "code",
      "source": [
        "#initialize the counter\n",
        "word_start_a = 0\n",
        "# loop through each word in the list\n",
        "for word in alpha_list:\n",
        "  if word.startswith('a'):\n",
        "    word_start_a += 1\n",
        "  else:\n",
        "    break\n",
        "\n",
        "word_start_a"
      ],
      "metadata": {
        "colab": {
          "base_uri": "https://localhost:8080/"
        },
        "id": "Ny9LKzbRxo-g",
        "outputId": "7edd1389-2682-4c75-c518-826bc666b1ae"
      },
      "execution_count": null,
      "outputs": [
        {
          "output_type": "execute_result",
          "data": {
            "text/plain": [
              "0"
            ]
          },
          "metadata": {},
          "execution_count": 5
        }
      ]
    },
    {
      "cell_type": "code",
      "source": [
        "words_starting_with_a = len(list(filter(lambda word: word.startswith('a'), alpha_list)))\n",
        "words_starting_with_a"
      ],
      "metadata": {
        "colab": {
          "base_uri": "https://localhost:8080/"
        },
        "id": "6oIm7JMnvYOW",
        "outputId": "b9a74289-203d-454e-ac03-a8d268414c8e"
      },
      "execution_count": null,
      "outputs": [
        {
          "output_type": "execute_result",
          "data": {
            "text/plain": [
              "0"
            ]
          },
          "metadata": {},
          "execution_count": 6
        }
      ]
    },
    {
      "cell_type": "markdown",
      "source": [
        "# 5."
      ],
      "metadata": {
        "id": "1IeVVUmxvbiu"
      }
    },
    {
      "cell_type": "code",
      "source": [
        "# initialize the counter\n",
        "word_with_q = 0\n",
        "# loop though each word\n",
        "for word in alpha_list:\n",
        "  if 'q' in word:\n",
        "    word_with_q += 1\n",
        "  else:\n",
        "    break\n",
        "\n",
        "word_with_q"
      ],
      "metadata": {
        "colab": {
          "base_uri": "https://localhost:8080/"
        },
        "id": "3zfPvUhZvgFV",
        "outputId": "02015224-9a89-459a-8461-f464621546dc"
      },
      "execution_count": null,
      "outputs": [
        {
          "output_type": "execute_result",
          "data": {
            "text/plain": [
              "0"
            ]
          },
          "metadata": {},
          "execution_count": 7
        }
      ]
    },
    {
      "cell_type": "code",
      "source": [
        "# initialize the counter\n",
        "word_without_e = 0\n",
        "# loop through each word\n",
        "for word in alpha_list:\n",
        "  if 'e' not in word:\n",
        "    word_without_e += 1\n",
        "  else:\n",
        "    break\n",
        "print(word_without_e)\n",
        "\n",
        "# calculate the fraction\n",
        "fraction_without_e = word_without_e / len(alpha_list)\n",
        "fraction_without_e"
      ],
      "metadata": {
        "colab": {
          "base_uri": "https://localhost:8080/"
        },
        "id": "ngQRxYBFzPba",
        "outputId": "d98919a4-510f-4043-b61f-186803d87ce6"
      },
      "execution_count": null,
      "outputs": [
        {
          "output_type": "stream",
          "name": "stdout",
          "text": [
            "1\n"
          ]
        },
        {
          "output_type": "execute_result",
          "data": {
            "text/plain": [
              "0.1"
            ]
          },
          "metadata": {},
          "execution_count": 8
        }
      ]
    },
    {
      "cell_type": "markdown",
      "source": [
        "# 6."
      ],
      "metadata": {
        "id": "6MHo-ACIu8lI"
      }
    },
    {
      "cell_type": "code",
      "source": [
        "import numpy as np\n",
        "wordarray = np.array(words)\n",
        "alphabet = [chr(i) for i in range(ord('a'),ord('z')+1)]\n",
        "print(alphabet)\n"
      ],
      "metadata": {
        "colab": {
          "base_uri": "https://localhost:8080/"
        },
        "id": "kmCWvIUxS3CD",
        "outputId": "e83366bd-91f5-4e0b-aee1-928090bc4209"
      },
      "execution_count": null,
      "outputs": [
        {
          "output_type": "stream",
          "name": "stdout",
          "text": [
            "['a', 'b', 'c', 'd', 'e', 'f', 'g', 'h', 'i', 'j', 'k', 'l', 'm', 'n', 'o', 'p', 'q', 'r', 's', 't', 'u', 'v', 'w', 'x', 'y', 'z']\n"
          ]
        }
      ]
    },
    {
      "cell_type": "markdown",
      "source": [
        "It contains all the letters from the English alphabet from \"a to z\""
      ],
      "metadata": {
        "id": "2GgX5gs8vjLe"
      }
    },
    {
      "cell_type": "markdown",
      "source": [
        "# 7.\n"
      ],
      "metadata": {
        "id": "YhVgTZm0vy_W"
      }
    },
    {
      "cell_type": "code",
      "source": [
        "# bar graph starting with each letter\n",
        "import matplotlib.pyplot as plt\n",
        "alphabet_counts = {letter: 0 for letter in alphabet}\n",
        "for word in alpha_list:\n",
        "  first_letter = word[0]\n",
        "  if first_letter in alphabet_counts:\n",
        "    alphabet_counts[first_letter] +=1\n",
        "\n",
        "# data for plotting\n",
        "count = list(alphabet_counts.values())\n",
        "plt.bar(alphabet, count, color='pink' )\n",
        "\n",
        "# adding title and lable\n",
        "plt.title('Number of words starting with each letter')\n",
        "plt.xlabel('alphabet')\n",
        "plt.ylabel('word Count')\n",
        "\n"
      ],
      "metadata": {
        "colab": {
          "base_uri": "https://localhost:8080/",
          "height": 490
        },
        "id": "gXoSE3sSv1Un",
        "outputId": "8262b674-b3fe-43b4-84d9-4475b79414d5"
      },
      "execution_count": null,
      "outputs": [
        {
          "output_type": "execute_result",
          "data": {
            "text/plain": [
              "Text(0, 0.5, 'word Count')"
            ]
          },
          "metadata": {},
          "execution_count": 10
        },
        {
          "output_type": "display_data",
          "data": {
            "text/plain": [
              "<Figure size 640x480 with 1 Axes>"
            ],
            "image/png": "[encoded data removed]"
          },
          "metadata": {}
        }
      ]
    },
    {
      "cell_type": "markdown",
      "source": [
        "#8."
      ],
      "metadata": {
        "id": "6tyIqpP-v17x"
      }
    },
    {
      "cell_type": "code",
      "source": [
        "sorted_by_length = sorted(alpha_list, key=len, reverse=True)\n",
        "six_longest_words = sorted_by_length[:6]\n",
        "six_longest_words"
      ],
      "metadata": {
        "colab": {
          "base_uri": "https://localhost:8080/"
        },
        "id": "uwZ22K3rBdDy",
        "outputId": "0d0a1c9f-2a86-43f3-ac26-4d774d42a54b"
      },
      "execution_count": null,
      "outputs": [
        {
          "output_type": "execute_result",
          "data": {
            "text/plain": [
              "['illustrative',\n",
              " 'palminervate',\n",
              " 'crossopodia',\n",
              " 'turncoatism',\n",
              " 'ureterogram',\n",
              " 'phoenicize']"
            ]
          },
          "metadata": {},
          "execution_count": 15
        }
      ]
    },
    {
      "cell_type": "markdown",
      "source": [
        "#9."
      ],
      "metadata": {
        "id": "8PPs8jKvv4dU"
      }
    },
    {
      "cell_type": "code",
      "source": [
        "length_counts = {}\n",
        "\n",
        "for word in alpha_list:\n",
        "  word_length = len(word)\n",
        "  if word_length in length_counts:\n",
        "    length_counts[word_length] +=1\n",
        "  else:\n",
        "    length_counts[word_length] =1\n",
        "\n",
        "length = list(length_counts.keys())\n",
        "counts = list(length_counts.values())\n",
        "plt.bar(length, counts)\n",
        "plt.title(\"Raw Data\")\n",
        "plt.show()\n",
        "\n",
        "word_length = [len(word)for word in alpha_list]\n",
        "plt.hist(word_length, bins=range(min(word_length), max(word_length) +1),align='left')\n",
        "\n",
        "plt.title('Histogram of Word Lengths')\n",
        "plt.xlabel('Length of Words')\n",
        "plt.ylabel('Frequency')\n",
        "\n",
        "plt.show()"
      ],
      "metadata": {
        "id": "YldOgW2Av5tv",
        "colab": {
          "base_uri": "https://localhost:8080/",
          "height": 907
        },
        "outputId": "db23d1ba-2db0-4d1a-f7cf-c7ce1c05c343"
      },
      "execution_count": null,
      "outputs": [
        {
          "output_type": "display_data",
          "data": {
            "text/plain": [
              "<Figure size 640x480 with 1 Axes>"
            ],
            "image/png": "[encoded data removed]"
          },
          "metadata": {}
        },
        {
          "output_type": "display_data",
          "data": {
            "text/plain": [
              "<Figure size 640x480 with 1 Axes>"
            ],
            "image/png": "[encoded data removed]"
          },
          "metadata": {}
        }
      ]
    },
    {
      "cell_type": "markdown",
      "source": [
        "#11."
      ],
      "metadata": {
        "id": "iB9Hma3Qv8XG"
      }
    },
    {
      "cell_type": "code",
      "source": [
        "# initialize counter\n",
        "v_a = 0\n",
        "w_ = 0\n",
        "\n",
        "for word in alpha_list:\n",
        "  if 'v' in word and 'a' in word:\n",
        "    v_a += 1\n",
        "  if 'w' in word and 'l' in word:\n",
        "    w_l += 1\n",
        "\n",
        "v_a,w_t\n",
        "\n",
        "# it took 0 second to run the code\n",
        "# it should only have to run through once because the condition is to have both letters included"
      ],
      "metadata": {
        "id": "V1D-_GFRv9sa",
        "colab": {
          "base_uri": "https://localhost:8080/"
        },
        "outputId": "6a1d7e6b-8270-4dc4-d921-8d2d66246599"
      },
      "execution_count": null,
      "outputs": [
        {
          "output_type": "execute_result",
          "data": {
            "text/plain": [
              "(2, 0)"
            ]
          },
          "metadata": {},
          "execution_count": 31
        }
      ]
    }
  ]
}