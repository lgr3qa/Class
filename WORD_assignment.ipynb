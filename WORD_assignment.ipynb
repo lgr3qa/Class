{
  "cells": [
    {
      "cell_type": "markdown",
      "metadata": {
        "id": "view-in-github",
        "colab_type": "text"
      },
      "source": [
        "<a href=\"https://colab.research.google.com/github/lgr3qa/Class/blob/main/WORD_assignment.ipynb\" target=\"_parent\"><img src=\"https://colab.research.google.com/assets/colab-badge.svg\" alt=\"Open In Colab\"/></a>"
      ]
    },
    {
      "cell_type": "markdown",
      "metadata": {
        "id": "0avK1LrcGj5O"
      },
      "source": [
        "# Words Assignment\n",
        "\n",
        "Lorenzo Romulo\n",
        "\n",
        "Kyoka Trepka"
      ]
    },
    {
      "cell_type": "code",
      "execution_count": 4,
      "metadata": {
        "colab": {
          "base_uri": "https://localhost:8080/"
        },
        "id": "_dIJTGh5Gc4g",
        "outputId": "386fa1c0-cadf-4ec8-9eb0-7fd5f2dc8b83"
      },
      "outputs": [
        {
          "output_type": "stream",
          "name": "stdout",
          "text": [
            "Requirement already satisfied: english_words in /usr/local/lib/python3.10/dist-packages (2.0.1)\n"
          ]
        }
      ],
      "source": [
        "!pip install english_words\n",
        "from english_words import get_english_words_set\n",
        "words = get_english_words_set(['web2'],lower=True)"
      ]
    },
    {
      "cell_type": "markdown",
      "metadata": {
        "id": "pu5wQH82vNQI"
      },
      "source": [
        "# 1."
      ]
    },
    {
      "cell_type": "code",
      "execution_count": 5,
      "metadata": {
        "colab": {
          "base_uri": "https://localhost:8080/"
        },
        "id": "cdAJbFdQHXbm",
        "outputId": "ba8c8856-f29c-40a8-d3f1-98ac35b2b35d"
      },
      "outputs": [
        {
          "output_type": "stream",
          "name": "stdout",
          "text": [
            "<class 'set'>\n",
            "<class 'list'>\n"
          ]
        },
        {
          "output_type": "execute_result",
          "data": {
            "text/plain": [
              "234450"
            ]
          },
          "metadata": {},
          "execution_count": 5
        }
      ],
      "source": [
        "print(type(words))\n",
        "\n",
        "wordlist = list(words)\n",
        "print(type (wordlist))\n",
        "\n",
        "len(wordlist)\n"
      ]
    },
    {
      "cell_type": "markdown",
      "metadata": {
        "id": "G1mu0VwfvI5H"
      },
      "source": [
        "# 2."
      ]
    },
    {
      "cell_type": "code",
      "execution_count": 6,
      "metadata": {
        "colab": {
          "base_uri": "https://localhost:8080/"
        },
        "id": "TqZxsH8QI8Ya",
        "outputId": "e9d04132-6d57-473c-eff8-960b107a749b"
      },
      "outputs": [
        {
          "output_type": "execute_result",
          "data": {
            "text/plain": [
              "['deborah',\n",
              " 'postglenoidal',\n",
              " 'acetometry',\n",
              " 'fumarolic',\n",
              " 'glossodynia',\n",
              " 'guttie',\n",
              " 'illiterately',\n",
              " 'handbow',\n",
              " 'ungauntlet',\n",
              " 'shopkeeper']"
            ]
          },
          "metadata": {},
          "execution_count": 6
        }
      ],
      "source": [
        "first_ten = wordlist[:10]\n",
        "first_ten\n",
        "\n",
        "\n"
      ]
    },
    {
      "cell_type": "markdown",
      "metadata": {
        "id": "asIbSJR9wEmD"
      },
      "source": [
        "we noticed that the words given seem to be in a random order, or not alphabetically organized"
      ]
    },
    {
      "cell_type": "markdown",
      "metadata": {
        "id": "WHzoEyaKvGzl"
      },
      "source": [
        "# 3."
      ]
    },
    {
      "cell_type": "code",
      "execution_count": 7,
      "metadata": {
        "colab": {
          "base_uri": "https://localhost:8080/"
        },
        "id": "SQrMhRmnQtkl",
        "outputId": "061cb8ec-7a6a-4f60-f4f6-ccd914992a8c"
      },
      "outputs": [
        {
          "output_type": "execute_result",
          "data": {
            "text/plain": [
              "['acetometry',\n",
              " 'deborah',\n",
              " 'fumarolic',\n",
              " 'glossodynia',\n",
              " 'guttie',\n",
              " 'handbow',\n",
              " 'illiterately',\n",
              " 'postglenoidal',\n",
              " 'shopkeeper',\n",
              " 'ungauntlet']"
            ]
          },
          "metadata": {},
          "execution_count": 7
        }
      ],
      "source": [
        "alpha_list = sorted(first_ten)\n",
        "first_ten_alpha = alpha_list[:10]\n",
        "first_ten_alpha"
      ]
    },
    {
      "cell_type": "markdown",
      "metadata": {
        "id": "utW3c73-vRQD"
      },
      "source": [
        "# 4."
      ]
    },
    {
      "cell_type": "code",
      "execution_count": 23,
      "metadata": {
        "colab": {
          "base_uri": "https://localhost:8080/"
        },
        "id": "Ny9LKzbRxo-g",
        "outputId": "d4bd1048-9896-47ce-bba7-8390006fae11"
      },
      "outputs": [
        {
          "output_type": "execute_result",
          "data": {
            "text/plain": [
              "1"
            ]
          },
          "metadata": {},
          "execution_count": 23
        }
      ],
      "source": [
        "word_start_a = 0\n",
        "for word in alpha_list:\n",
        "  if word.startswith('a'):\n",
        "    word_start_a += 1\n",
        "  else:\n",
        "    break\n",
        "\n",
        "word_start_a"
      ]
    },
    {
      "cell_type": "code",
      "execution_count": 9,
      "metadata": {
        "colab": {
          "base_uri": "https://localhost:8080/"
        },
        "id": "6oIm7JMnvYOW",
        "outputId": "53c30c92-e830-4299-d5f6-4f8777c21604"
      },
      "outputs": [
        {
          "output_type": "execute_result",
          "data": {
            "text/plain": [
              "1"
            ]
          },
          "metadata": {},
          "execution_count": 9
        }
      ],
      "source": [
        "words_starting_with_a = len(list(filter(lambda word: word.startswith('a'), alpha_list)))\n",
        "words_starting_with_a"
      ]
    },
    {
      "cell_type": "markdown",
      "metadata": {
        "id": "1IeVVUmxvbiu"
      },
      "source": [
        "# 5."
      ]
    },
    {
      "cell_type": "code",
      "execution_count": 25,
      "metadata": {
        "colab": {
          "base_uri": "https://localhost:8080/"
        },
        "id": "3zfPvUhZvgFV",
        "outputId": "0a388eed-bcfe-416a-86f9-eb01e6efb191"
      },
      "outputs": [
        {
          "output_type": "execute_result",
          "data": {
            "text/plain": [
              "0"
            ]
          },
          "metadata": {},
          "execution_count": 25
        }
      ],
      "source": [
        "word_with_q=0\n",
        "for word in alpha_list:\n",
        "  if 'q' in word:\n",
        "    word_with_q += 1\n",
        "  else:\n",
        "    break\n",
        "\n",
        "word_with_q"
      ]
    },
    {
      "cell_type": "code",
      "execution_count": 26,
      "metadata": {
        "colab": {
          "base_uri": "https://localhost:8080/"
        },
        "id": "ngQRxYBFzPba",
        "outputId": "a5eb48da-02c8-4651-da0d-98d47f14e9ce"
      },
      "outputs": [
        {
          "output_type": "stream",
          "name": "stdout",
          "text": [
            "0\n"
          ]
        },
        {
          "output_type": "execute_result",
          "data": {
            "text/plain": [
              "0.0"
            ]
          },
          "metadata": {},
          "execution_count": 26
        }
      ],
      "source": [
        "word_without_e = 0\n",
        "for word in alpha_list:\n",
        "  if 'e' not in word:\n",
        "    word_without_e += 1\n",
        "  else:\n",
        "    break\n",
        "print(word_without_e)\n",
        "\n",
        "fraction_without_e = word_without_e / len(alpha_list)\n",
        "fraction_without_e"
      ]
    },
    {
      "cell_type": "markdown",
      "metadata": {
        "id": "6MHo-ACIu8lI"
      },
      "source": [
        "# 6."
      ]
    },
    {
      "cell_type": "code",
      "execution_count": 14,
      "metadata": {
        "colab": {
          "base_uri": "https://localhost:8080/"
        },
        "id": "kmCWvIUxS3CD",
        "outputId": "445d55ed-26d6-41fd-cf7d-72857b4ebf55"
      },
      "outputs": [
        {
          "output_type": "stream",
          "name": "stdout",
          "text": [
            "['a', 'b', 'c', 'd', 'e', 'f', 'g', 'h', 'i', 'j', 'k', 'l', 'm', 'n', 'o', 'p', 'q', 'r', 's', 't', 'u', 'v', 'w', 'x', 'y', 'z']\n"
          ]
        }
      ],
      "source": [
        "import numpy as np\n",
        "wordarray = np.array(words)\n",
        "alphabet = [chr(i) for i in range(ord('a'),ord('z')+1)]\n",
        "print(alphabet)\n"
      ]
    },
    {
      "cell_type": "markdown",
      "metadata": {
        "id": "2GgX5gs8vjLe"
      },
      "source": [
        "It contains all the letters from the English alphabet from \"a to z\""
      ]
    },
    {
      "cell_type": "markdown",
      "metadata": {
        "id": "YhVgTZm0vy_W"
      },
      "source": [
        "# 7.\n"
      ]
    },
    {
      "cell_type": "code",
      "execution_count": 15,
      "metadata": {
        "colab": {
          "base_uri": "https://localhost:8080/",
          "height": 489
        },
        "id": "gXoSE3sSv1Un",
        "outputId": "9cb4d296-39ee-4a48-d690-d6d062e77bd4"
      },
      "outputs": [
        {
          "output_type": "execute_result",
          "data": {
            "text/plain": [
              "Text(0, 0.5, 'word Count')"
            ]
          },
          "metadata": {},
          "execution_count": 15
        },
        {
          "output_type": "display_data",
          "data": {
            "text/plain": [
              "<Figure size 640x480 with 1 Axes>"
            ],
            "image/png": "[encoded data removed]"
          },
          "metadata": {}
        }
      ],
      "source": [
        "import matplotlib.pyplot as plt\n",
        "alphabet_counts = {letter: 0 for letter in alphabet}\n",
        "for word in alpha_list:\n",
        "  first_letter = word[0]\n",
        "  if first_letter in alphabet_counts:\n",
        "    alphabet_counts[first_letter] +=1\n",
        "\n",
        "count = list(alphabet_counts.values())\n",
        "plt.bar(alphabet, count, color='pink' )\n",
        "\n",
        "plt.title('Number of words starting with each letter')\n",
        "plt.xlabel('alphabet')\n",
        "plt.ylabel('word Count')\n",
        "\n"
      ]
    },
    {
      "cell_type": "markdown",
      "metadata": {
        "id": "6tyIqpP-v17x"
      },
      "source": [
        "#8."
      ]
    },
    {
      "cell_type": "code",
      "execution_count": 16,
      "metadata": {
        "colab": {
          "base_uri": "https://localhost:8080/"
        },
        "id": "uwZ22K3rBdDy",
        "outputId": "aead1858-cb6f-44b8-edc1-721caa67eb02"
      },
      "outputs": [
        {
          "output_type": "execute_result",
          "data": {
            "text/plain": [
              "['postglenoidal',\n",
              " 'illiterately',\n",
              " 'glossodynia',\n",
              " 'acetometry',\n",
              " 'shopkeeper',\n",
              " 'ungauntlet']"
            ]
          },
          "metadata": {},
          "execution_count": 16
        }
      ],
      "source": [
        "sorted_by_length = sorted(alpha_list, key=len, reverse=True)\n",
        "six_longest_words = sorted_by_length[:6]\n",
        "six_longest_words"
      ]
    },
    {
      "cell_type": "markdown",
      "metadata": {
        "id": "8PPs8jKvv4dU"
      },
      "source": [
        "#9."
      ]
    },
    {
      "cell_type": "code",
      "execution_count": 17,
      "metadata": {
        "colab": {
          "base_uri": "https://localhost:8080/",
          "height": 907
        },
        "id": "YldOgW2Av5tv",
        "outputId": "e605e556-f4b5-4906-eb4e-a1bdea4adacd"
      },
      "outputs": [
        {
          "output_type": "display_data",
          "data": {
            "text/plain": [
              "<Figure size 640x480 with 1 Axes>"
            ],
            "image/png": "[encoded data removed]"
          },
          "metadata": {}
        },
        {
          "output_type": "display_data",
          "data": {
            "text/plain": [
              "<Figure size 640x480 with 1 Axes>"
            ],
            "image/png": "[encoded data removed]"
          },
          "metadata": {}
        }
      ],
      "source": [
        "length_counts = {}\n",
        "\n",
        "for word in alpha_list:\n",
        "  word_length = len(word)\n",
        "  if word_length in length_counts:\n",
        "    length_counts[word_length] +=1\n",
        "  else:\n",
        "    length_counts[word_length] =1\n",
        "\n",
        "length = list(length_counts.keys())\n",
        "counts = list(length_counts.values())\n",
        "plt.bar(length, counts)\n",
        "plt.title(\"Raw Data\")\n",
        "plt.show()\n",
        "\n",
        "word_length = [len(word)for word in alpha_list]\n",
        "plt.hist(word_length, bins=range(min(word_length), max(word_length) +1),align='left')\n",
        "\n",
        "plt.title('Histogram of Word Lengths')\n",
        "plt.xlabel('Length of Words')\n",
        "plt.ylabel('Frequency')\n",
        "\n",
        "plt.show()"
      ]
    },
    {
      "cell_type": "markdown",
      "metadata": {
        "id": "iB9Hma3Qv8XG"
      },
      "source": [
        "#11."
      ]
    },
    {
      "cell_type": "code",
      "execution_count": 21,
      "metadata": {
        "colab": {
          "base_uri": "https://localhost:8080/"
        },
        "id": "V1D-_GFRv9sa",
        "outputId": "eaf44cc4-251a-4710-d49c-8f7a3ecc2bf2"
      },
      "outputs": [
        {
          "output_type": "execute_result",
          "data": {
            "text/plain": [
              "(0, 0)"
            ]
          },
          "metadata": {},
          "execution_count": 21
        }
      ],
      "source": [
        "v_a = 0\n",
        "w_l = 0\n",
        "\n",
        "for word in alpha_list:\n",
        "  if 'v' in word and 'a' in word:\n",
        "    v_a += 1\n",
        "  if 'w' in word and 'l' in word:\n",
        "    w_l += 1\n",
        "\n",
        "v_a,w_l"
      ]
    }
  ],
  "metadata": {
    "colab": {
      "provenance": [],
      "include_colab_link": true
    },
    "kernelspec": {
      "display_name": "Python 3",
      "name": "python3"
    },
    "language_info": {
      "name": "python"
    }
  },
  "nbformat": 4,
  "nbformat_minor": 0
}